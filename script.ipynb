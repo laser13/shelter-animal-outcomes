{
 "cells": [
  {
   "cell_type": "code",
   "execution_count": 9,
   "metadata": {
    "collapsed": false
   },
   "outputs": [],
   "source": [
    "import numpy as np\n",
    "import pandas as pd\n",
    "import matplotlib.pyplot as plt\n",
    "from statsmodels.graphics.mosaicplot import mosaic\n",
    "import seaborn as sns\n",
    "import sklearn\n",
    "import xgboost as xgb\n",
    "from datetime import datetime\n",
    "from sklearn import linear_model, feature_extraction, preprocessing, cross_validation, grid_search, metrics, svm, tree, ensemble, neighbors\n",
    "\n",
    "import utils\n",
    "\n",
    "%matplotlib inline"
   ]
  },
  {
   "cell_type": "code",
   "execution_count": 2,
   "metadata": {
    "collapsed": false
   },
   "outputs": [
    {
     "name": "stdout",
     "output_type": "stream",
     "text": [
      "(26729, 9)\n",
      "(11456, 7)\n"
     ]
    }
   ],
   "source": [
    "train_data = pd.read_csv(\"train.csv\", index_col='AnimalID')\n",
    "test_data = pd.read_csv(\"test.csv\", index_col='ID')\n",
    "all_data = pd.concat([train_data, test_data])\n",
    "print(train_data.shape)\n",
    "print(test_data.shape)"
   ]
  },
  {
   "cell_type": "code",
   "execution_count": 3,
   "metadata": {
    "collapsed": false
   },
   "outputs": [],
   "source": [
    "ll = list(map(lambda x: x.split('/'), all_data['Color'].unique()))\n",
    "l = [item for sublist in ll for item in sublist]\n",
    "full_color = set(map(lambda x: x.replace(' Mix', ''), l))"
   ]
  },
  {
   "cell_type": "code",
   "execution_count": 4,
   "metadata": {
    "collapsed": false
   },
   "outputs": [],
   "source": [
    "ll = list(map(lambda x: x.split('/'), all_data['Breed'].unique()))\n",
    "l = [item for sublist in ll for item in sublist]\n",
    "full_breed = set(map(lambda x: x.replace(' Mix', ''), l))"
   ]
  },
  {
   "cell_type": "code",
   "execution_count": 5,
   "metadata": {
    "collapsed": false
   },
   "outputs": [
    {
     "data": {
      "text/html": [
       "<div>\n",
       "<table border=\"1\" class=\"dataframe\">\n",
       "  <thead>\n",
       "    <tr style=\"text-align: right;\">\n",
       "      <th></th>\n",
       "      <th>AgeuponOutcome</th>\n",
       "      <th>AnimalType</th>\n",
       "      <th>DateTime</th>\n",
       "      <th>Name</th>\n",
       "      <th>OutcomeSubtype</th>\n",
       "      <th>OutcomeType</th>\n",
       "      <th>SexuponOutcome</th>\n",
       "      <th>Year</th>\n",
       "      <th>Month</th>\n",
       "      <th>WeekDay</th>\n",
       "      <th>...</th>\n",
       "      <th>Color Gray Tiger</th>\n",
       "      <th>Color Liver Tick</th>\n",
       "      <th>Color Blue Tabby</th>\n",
       "      <th>Color Cream</th>\n",
       "      <th>Color Blue</th>\n",
       "      <th>Color Orange Tabby</th>\n",
       "      <th>Color Tortie Point</th>\n",
       "      <th>Color Fawn</th>\n",
       "      <th>Color Calico Point</th>\n",
       "      <th>Color Brown</th>\n",
       "    </tr>\n",
       "  </thead>\n",
       "  <tbody>\n",
       "    <tr>\n",
       "      <th>A671945</th>\n",
       "      <td>(330, 730)</td>\n",
       "      <td>Dog</td>\n",
       "      <td>2014-02-12 18:22:00</td>\n",
       "      <td>1</td>\n",
       "      <td>NaN</td>\n",
       "      <td>Return_to_owner</td>\n",
       "      <td>Neutered Male</td>\n",
       "      <td>2014</td>\n",
       "      <td>2</td>\n",
       "      <td>3</td>\n",
       "      <td>...</td>\n",
       "      <td>0</td>\n",
       "      <td>0</td>\n",
       "      <td>0</td>\n",
       "      <td>0</td>\n",
       "      <td>0</td>\n",
       "      <td>0</td>\n",
       "      <td>0</td>\n",
       "      <td>0</td>\n",
       "      <td>0</td>\n",
       "      <td>1</td>\n",
       "    </tr>\n",
       "    <tr>\n",
       "      <th>A656520</th>\n",
       "      <td>(330, 730)</td>\n",
       "      <td>Cat</td>\n",
       "      <td>2013-10-13 12:44:00</td>\n",
       "      <td>1</td>\n",
       "      <td>Suffering</td>\n",
       "      <td>Euthanasia</td>\n",
       "      <td>Spayed Female</td>\n",
       "      <td>2013</td>\n",
       "      <td>10</td>\n",
       "      <td>7</td>\n",
       "      <td>...</td>\n",
       "      <td>0</td>\n",
       "      <td>0</td>\n",
       "      <td>0</td>\n",
       "      <td>0</td>\n",
       "      <td>0</td>\n",
       "      <td>0</td>\n",
       "      <td>0</td>\n",
       "      <td>0</td>\n",
       "      <td>0</td>\n",
       "      <td>0</td>\n",
       "    </tr>\n",
       "    <tr>\n",
       "      <th>A686464</th>\n",
       "      <td>(330, 730)</td>\n",
       "      <td>Dog</td>\n",
       "      <td>2015-01-31 12:28:00</td>\n",
       "      <td>1</td>\n",
       "      <td>Foster</td>\n",
       "      <td>Adoption</td>\n",
       "      <td>Neutered Male</td>\n",
       "      <td>2015</td>\n",
       "      <td>1</td>\n",
       "      <td>6</td>\n",
       "      <td>...</td>\n",
       "      <td>0</td>\n",
       "      <td>0</td>\n",
       "      <td>0</td>\n",
       "      <td>0</td>\n",
       "      <td>1</td>\n",
       "      <td>0</td>\n",
       "      <td>0</td>\n",
       "      <td>0</td>\n",
       "      <td>0</td>\n",
       "      <td>0</td>\n",
       "    </tr>\n",
       "  </tbody>\n",
       "</table>\n",
       "<p>3 rows × 308 columns</p>\n",
       "</div>"
      ],
      "text/plain": [
       "        AgeuponOutcome AnimalType             DateTime  Name OutcomeSubtype  \\\n",
       "A671945     (330, 730)        Dog  2014-02-12 18:22:00     1            NaN   \n",
       "A656520     (330, 730)        Cat  2013-10-13 12:44:00     1      Suffering   \n",
       "A686464     (330, 730)        Dog  2015-01-31 12:28:00     1         Foster   \n",
       "\n",
       "             OutcomeType SexuponOutcome  Year  Month  WeekDay     ...       \\\n",
       "A671945  Return_to_owner  Neutered Male  2014      2        3     ...        \n",
       "A656520       Euthanasia  Spayed Female  2013     10        7     ...        \n",
       "A686464         Adoption  Neutered Male  2015      1        6     ...        \n",
       "\n",
       "         Color Gray Tiger  Color Liver Tick  Color Blue Tabby  Color Cream  \\\n",
       "A671945                 0                 0                 0            0   \n",
       "A656520                 0                 0                 0            0   \n",
       "A686464                 0                 0                 0            0   \n",
       "\n",
       "         Color Blue  Color Orange Tabby  Color Tortie Point  Color Fawn  \\\n",
       "A671945           0                   0                   0           0   \n",
       "A656520           0                   0                   0           0   \n",
       "A686464           1                   0                   0           0   \n",
       "\n",
       "         Color Calico Point  Color Brown  \n",
       "A671945                   0            1  \n",
       "A656520                   0            0  \n",
       "A686464                   0            0  \n",
       "\n",
       "[3 rows x 308 columns]"
      ]
     },
     "execution_count": 5,
     "metadata": {},
     "output_type": "execute_result"
    }
   ],
   "source": [
    "all_data = pd.concat([train_data, test_data])\n",
    "all_df = utils.prepare_age(all_data)\n",
    "all_df = utils.prepare_name(all_df)\n",
    "all_df = utils.prepare_date(all_df)\n",
    "all_df = utils.prepare_breed(all_df, full_breed)\n",
    "all_df = utils.prepare_color(all_df, full_color)\n",
    "all_df[:3]"
   ]
  },
  {
   "cell_type": "code",
   "execution_count": null,
   "metadata": {
    "collapsed": false
   },
   "outputs": [],
   "source": [
    "train = all_df[all_df['OutcomeType'].notnull()]\n",
    "train['OutcomeType'].unique()"
   ]
  },
  {
   "cell_type": "code",
   "execution_count": null,
   "metadata": {
    "collapsed": false
   },
   "outputs": [],
   "source": [
    "age = train[['OutcomeType', 'AgeuponOutcome']]\n",
    "grouped = age[train['OutcomeType'] == 'Euthanasia'].groupby(['OutcomeType', 'AgeuponOutcome'])\n",
    "plt.rcParams['font.size'] = 12.0\n",
    "plt.rcParams['figure.figsize'] = 20, 10\n",
    "grouped.size().plot.bar()"
   ]
  },
  {
   "cell_type": "code",
   "execution_count": null,
   "metadata": {
    "collapsed": false
   },
   "outputs": [],
   "source": [
    "age = train[['OutcomeType', 'AgeuponOutcome']]\n",
    "grouped = age[train['OutcomeType'] == 'Adoption'].groupby(['OutcomeType', 'AgeuponOutcome'])\n",
    "plt.rcParams['font.size'] = 12.0\n",
    "plt.rcParams['figure.figsize'] = 20, 10\n",
    "grouped.size().plot.bar()"
   ]
  },
  {
   "cell_type": "code",
   "execution_count": null,
   "metadata": {
    "collapsed": false
   },
   "outputs": [],
   "source": [
    "age = train[['OutcomeType', 'AgeuponOutcome']]\n",
    "grouped = age[train['OutcomeType'] == 'Transfer'].groupby(['OutcomeType', 'AgeuponOutcome'])\n",
    "plt.rcParams['font.size'] = 12.0\n",
    "plt.rcParams['figure.figsize'] = 20, 10\n",
    "grouped.size().plot.bar()"
   ]
  },
  {
   "cell_type": "code",
   "execution_count": null,
   "metadata": {
    "collapsed": false
   },
   "outputs": [],
   "source": [
    "age = train[['OutcomeType', 'AgeuponOutcome']]\n",
    "grouped = age[train['OutcomeType'] == 'Return_to_owner'].groupby(['OutcomeType', 'AgeuponOutcome'])\n",
    "plt.rcParams['font.size'] = 12.0\n",
    "plt.rcParams['figure.figsize'] = 20, 10\n",
    "grouped.size().plot.bar()"
   ]
  },
  {
   "cell_type": "code",
   "execution_count": null,
   "metadata": {
    "collapsed": false
   },
   "outputs": [],
   "source": [
    "age = train[['OutcomeType', 'AgeuponOutcome']]\n",
    "grouped = age[train['OutcomeType'] == 'Died'].groupby(['OutcomeType', 'AgeuponOutcome'])\n",
    "plt.rcParams['font.size'] = 12.0\n",
    "plt.rcParams['figure.figsize'] = 20, 10\n",
    "grouped.size().plot.bar()"
   ]
  },
  {
   "cell_type": "code",
   "execution_count": null,
   "metadata": {
    "collapsed": false
   },
   "outputs": [],
   "source": [
    "age = train[['OutcomeType', 'AgeuponOutcome']]\n",
    "grouped = age.groupby(['OutcomeType'])\n",
    "plt.rcParams['font.size'] = 12.0\n",
    "plt.rcParams['figure.figsize'] = 20, 10\n",
    "grouped.size().plot.bar()"
   ]
  },
  {
   "cell_type": "code",
   "execution_count": 6,
   "metadata": {
    "collapsed": false
   },
   "outputs": [
    {
     "name": "stdout",
     "output_type": "stream",
     "text": [
      "(26729, 338)\n",
      "(11456, 338)\n"
     ]
    },
    {
     "data": {
      "text/html": [
       "<div>\n",
       "<table border=\"1\" class=\"dataframe\">\n",
       "  <thead>\n",
       "    <tr style=\"text-align: right;\">\n",
       "      <th></th>\n",
       "      <th>Name</th>\n",
       "      <th>BreedMix</th>\n",
       "      <th>BreedCount</th>\n",
       "      <th>Breed Sphynx</th>\n",
       "      <th>Breed Dachshund Longhair</th>\n",
       "      <th>Breed Bichon Frise</th>\n",
       "      <th>Breed Old English Sheepdog</th>\n",
       "      <th>Breed Jindo</th>\n",
       "      <th>Breed Whippet</th>\n",
       "      <th>Breed Manchester Terrier</th>\n",
       "      <th>...</th>\n",
       "      <th>10</th>\n",
       "      <th>11</th>\n",
       "      <th>12</th>\n",
       "      <th>1_right</th>\n",
       "      <th>2_right</th>\n",
       "      <th>3_right</th>\n",
       "      <th>4_right</th>\n",
       "      <th>5_right</th>\n",
       "      <th>6_right</th>\n",
       "      <th>7_right</th>\n",
       "    </tr>\n",
       "  </thead>\n",
       "  <tbody>\n",
       "    <tr>\n",
       "      <th>A671945</th>\n",
       "      <td>1</td>\n",
       "      <td>1</td>\n",
       "      <td>1</td>\n",
       "      <td>0</td>\n",
       "      <td>0</td>\n",
       "      <td>0</td>\n",
       "      <td>0</td>\n",
       "      <td>0</td>\n",
       "      <td>0</td>\n",
       "      <td>0</td>\n",
       "      <td>...</td>\n",
       "      <td>0.0</td>\n",
       "      <td>0.0</td>\n",
       "      <td>0.0</td>\n",
       "      <td>0.0</td>\n",
       "      <td>0.0</td>\n",
       "      <td>1.0</td>\n",
       "      <td>0.0</td>\n",
       "      <td>0.0</td>\n",
       "      <td>0.0</td>\n",
       "      <td>0.0</td>\n",
       "    </tr>\n",
       "    <tr>\n",
       "      <th>A656520</th>\n",
       "      <td>1</td>\n",
       "      <td>1</td>\n",
       "      <td>1</td>\n",
       "      <td>0</td>\n",
       "      <td>0</td>\n",
       "      <td>0</td>\n",
       "      <td>0</td>\n",
       "      <td>0</td>\n",
       "      <td>0</td>\n",
       "      <td>0</td>\n",
       "      <td>...</td>\n",
       "      <td>1.0</td>\n",
       "      <td>0.0</td>\n",
       "      <td>0.0</td>\n",
       "      <td>0.0</td>\n",
       "      <td>0.0</td>\n",
       "      <td>0.0</td>\n",
       "      <td>0.0</td>\n",
       "      <td>0.0</td>\n",
       "      <td>0.0</td>\n",
       "      <td>1.0</td>\n",
       "    </tr>\n",
       "    <tr>\n",
       "      <th>A686464</th>\n",
       "      <td>1</td>\n",
       "      <td>1</td>\n",
       "      <td>1</td>\n",
       "      <td>0</td>\n",
       "      <td>0</td>\n",
       "      <td>0</td>\n",
       "      <td>0</td>\n",
       "      <td>0</td>\n",
       "      <td>0</td>\n",
       "      <td>0</td>\n",
       "      <td>...</td>\n",
       "      <td>0.0</td>\n",
       "      <td>0.0</td>\n",
       "      <td>0.0</td>\n",
       "      <td>0.0</td>\n",
       "      <td>0.0</td>\n",
       "      <td>0.0</td>\n",
       "      <td>0.0</td>\n",
       "      <td>0.0</td>\n",
       "      <td>1.0</td>\n",
       "      <td>0.0</td>\n",
       "    </tr>\n",
       "  </tbody>\n",
       "</table>\n",
       "<p>3 rows × 338 columns</p>\n",
       "</div>"
      ],
      "text/plain": [
       "         Name  BreedMix  BreedCount  Breed Sphynx  Breed Dachshund Longhair  \\\n",
       "A671945     1         1           1             0                         0   \n",
       "A656520     1         1           1             0                         0   \n",
       "A686464     1         1           1             0                         0   \n",
       "\n",
       "         Breed Bichon Frise  Breed Old English Sheepdog  Breed Jindo  \\\n",
       "A671945                   0                           0            0   \n",
       "A656520                   0                           0            0   \n",
       "A686464                   0                           0            0   \n",
       "\n",
       "         Breed Whippet  Breed Manchester Terrier   ...      10   11   12  \\\n",
       "A671945              0                         0   ...     0.0  0.0  0.0   \n",
       "A656520              0                         0   ...     1.0  0.0  0.0   \n",
       "A686464              0                         0   ...     0.0  0.0  0.0   \n",
       "\n",
       "         1_right  2_right  3_right  4_right  5_right  6_right  7_right  \n",
       "A671945      0.0      0.0      1.0      0.0      0.0      0.0      0.0  \n",
       "A656520      0.0      0.0      0.0      0.0      0.0      0.0      1.0  \n",
       "A686464      0.0      0.0      0.0      0.0      0.0      1.0      0.0  \n",
       "\n",
       "[3 rows x 338 columns]"
      ]
     },
     "execution_count": 6,
     "metadata": {},
     "output_type": "execute_result"
    }
   ],
   "source": [
    "categorical_features = ['AnimalType', 'SexuponOutcome', 'AgeuponOutcome', 'Year', 'Month', 'WeekDay']\n",
    "remove_features = ['DateTime', 'OutcomeSubtype', 'OutcomeType']\n",
    "all_X = utils.flatten(all_df, categorical_features)\n",
    "\n",
    "train_X = all_X[all_X['OutcomeType'].notnull()]\n",
    "test_X = all_X[all_X['OutcomeType'].isnull()]\n",
    "\n",
    "le = preprocessing.LabelEncoder()\n",
    "train_y = le.fit_transform(train_X['OutcomeType'].astype('category'))\n",
    "\n",
    "train_X = utils.remove(train_X, remove_features)\n",
    "test_X = utils.remove(test_X, remove_features)\n",
    "\n",
    "\n",
    "print(train_X.shape)\n",
    "print(test_X.shape)\n",
    "# for col in sorted(list(map(lambda x: str(x), train_X.columns))):\n",
    "#     print(col)\n",
    "train_X[:3]"
   ]
  },
  {
   "cell_type": "code",
   "execution_count": 7,
   "metadata": {
    "collapsed": false
   },
   "outputs": [],
   "source": [
    "X_train, X_test, y_train, y_test = cross_validation.train_test_split(train_X, train_y, test_size=0.4)\n",
    "poly = preprocessing.PolynomialFeatures(2)\n",
    "# X_train = poly.fit_transform(X_train)\n",
    "# X_test = poly.fit_transform(X_test)"
   ]
  },
  {
   "cell_type": "code",
   "execution_count": 12,
   "metadata": {
    "collapsed": false
   },
   "outputs": [
    {
     "name": "stdout",
     "output_type": "stream",
     "text": [
      "# Tuning hyper-parameters (16037, 338)\n",
      "\n",
      "Best parameters set found on development set:\n",
      "\n",
      "{}\n",
      "\n",
      "Grid scores on development set:\n",
      "\n",
      "0.621 (+/-0.007) for {}\n",
      "\n",
      "Detailed classification report:\n",
      "\n",
      "The model is trained on the full development set.\n",
      "The scores are computed on the full evaluation set.\n",
      "\n",
      "             precision    recall  f1-score   support\n",
      "\n",
      "          0       0.58      0.91      0.71      4277\n",
      "          1       0.00      0.00      0.00        84\n",
      "          2       0.00      0.00      0.00       632\n",
      "          3       0.47      0.29      0.36      1953\n",
      "          4       0.77      0.58      0.66      3746\n",
      "\n",
      "avg / total       0.59      0.62      0.58     10692\n",
      "\n",
      "\n"
     ]
    },
    {
     "name": "stderr",
     "output_type": "stream",
     "text": [
      "/home/dev/anaconda3/lib/python3.5/site-packages/sklearn/metrics/classification.py:1074: UndefinedMetricWarning: Precision and F-score are ill-defined and being set to 0.0 in labels with no predicted samples.\n",
      "  'precision', 'predicted', average, warn_for)\n"
     ]
    }
   ],
   "source": [
    "parameters = {\n",
    "    'n_estimators': [100],\n",
    "    'objective': ['multi:softprob'],\n",
    "    'reg_alpha': [10],\n",
    "    'reg_lambda': [10],\n",
    "    'learning_rate': [0.3],\n",
    "    'max_depth': [6],\n",
    "}\n",
    "parameters = {}\n",
    "model = xgb.XGBClassifier(nthread=3, )\n",
    "model = neighbors.KNeighborsClassifier(n_jobs=3, n_neighbors=100)\n",
    "\n",
    "print(\"# Tuning hyper-parameters\", X_train.shape)\n",
    "print()\n",
    "\n",
    "clf = grid_search.GridSearchCV(model, parameters)\n",
    "clf.fit(X_train, y_train)\n",
    "\n",
    "print(\"Best parameters set found on development set:\")\n",
    "print()\n",
    "print(clf.best_params_)\n",
    "print()\n",
    "print(\"Grid scores on development set:\")\n",
    "print()\n",
    "for params, mean_score, scores in clf.grid_scores_:\n",
    "    print(\"%0.3f (+/-%0.03f) for %r\" % (mean_score, scores.std() * 2, params))\n",
    "print()\n",
    "\n",
    "print(\"Detailed classification report:\")\n",
    "print()\n",
    "print(\"The model is trained on the full development set.\")\n",
    "print(\"The scores are computed on the full evaluation set.\")\n",
    "print()\n",
    "y_true, y_pred = y_test, clf.predict(X_test)\n",
    "print(metrics.classification_report(y_true, y_pred))\n",
    "print()"
   ]
  },
  {
   "cell_type": "code",
   "execution_count": null,
   "metadata": {
    "collapsed": false
   },
   "outputs": [],
   "source": [
    "model = xgb.XGBClassifier(objective='multi:softprob', learning_rate=0.3, n_estimators=400)\n",
    "train_X = poly.fit_transform(train_X)\n",
    "test_X = poly.fit_transform(test_X)\n",
    "model.fit(train_X, train_y)\n",
    "predict = model.predict_proba(test_X)"
   ]
  },
  {
   "cell_type": "code",
   "execution_count": null,
   "metadata": {
    "collapsed": false,
    "scrolled": true
   },
   "outputs": [],
   "source": [
    "predict[:5]"
   ]
  },
  {
   "cell_type": "code",
   "execution_count": null,
   "metadata": {
    "collapsed": false
   },
   "outputs": [],
   "source": [
    "output = pd.read_csv(\"sample_submission.csv\")\n",
    "output['Adoption'], output['Died'], output['Euthanasia'], output['Return_to_owner'], output['Transfer'] = predict[:,0], 0, predict[:,2], predict[:,3], predict[:,4]\n",
    "output.to_csv(\"actual_submission.csv\", index=False)"
   ]
  },
  {
   "cell_type": "code",
   "execution_count": null,
   "metadata": {
    "collapsed": true
   },
   "outputs": [],
   "source": []
  }
 ],
 "metadata": {
  "kernelspec": {
   "display_name": "Python 3",
   "language": "python",
   "name": "python3"
  },
  "language_info": {
   "codemirror_mode": {
    "name": "ipython",
    "version": 3
   },
   "file_extension": ".py",
   "mimetype": "text/x-python",
   "name": "python",
   "nbconvert_exporter": "python",
   "pygments_lexer": "ipython3",
   "version": "3.5.1"
  }
 },
 "nbformat": 4,
 "nbformat_minor": 0
}
