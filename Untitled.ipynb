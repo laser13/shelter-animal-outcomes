{
 "cells": [
  {
   "cell_type": "code",
   "execution_count": 1,
   "metadata": {
    "collapsed": true
   },
   "outputs": [],
   "source": [
    "import numpy as np\n",
    "import pandas as pd\n",
    "import sklearn\n",
    "from datetime import datetime\n",
    "from sklearn import linear_model, feature_extraction, preprocessing, cross_validation, grid_search, metrics, svm, tree, ensemble"
   ]
  },
  {
   "cell_type": "code",
   "execution_count": 2,
   "metadata": {
    "collapsed": false
   },
   "outputs": [
    {
     "name": "stdout",
     "output_type": "stream",
     "text": [
      "(26729, 9)\n",
      "(11456, 7)\n"
     ]
    }
   ],
   "source": [
    "train_data = pd.read_csv(\"train.csv\", index_col='AnimalID')\n",
    "test_data = pd.read_csv(\"test.csv\", index_col='ID')\n",
    "print(train_data.shape)\n",
    "print(test_data.shape)"
   ]
  },
  {
   "cell_type": "code",
   "execution_count": 3,
   "metadata": {
    "collapsed": false
   },
   "outputs": [],
   "source": [
    "def flatten(df, fields):\n",
    "    for field in fields:\n",
    "        df = df.join(pd.get_dummies(df[field]), lsuffix='_left', rsuffix='_right')\n",
    "    return remove(df, fields)\n",
    "\n",
    "def remove(df, fields):\n",
    "    return df.drop(fields, axis=1)\n",
    "\n",
    "def convert_date(dt):\n",
    "    d = datetime.strptime(dt, \"%Y-%m-%d %H:%M:%S\")\n",
    "    return d.year, d.month, d.isoweekday()"
   ]
  },
  {
   "cell_type": "code",
   "execution_count": 86,
   "metadata": {
    "collapsed": false
   },
   "outputs": [],
   "source": [
    "all_data = pd.concat([train_data, test_data])"
   ]
  },
  {
   "cell_type": "code",
   "execution_count": 54,
   "metadata": {
    "collapsed": false
   },
   "outputs": [],
   "source": [
    "ll = list(map(lambda x: x.split('/'), all_data['Color'].unique()))\n",
    "l = [item for sublist in ll for item in sublist]\n",
    "full_color = set(map(lambda x: x.replace(' Mix', ''), l))"
   ]
  },
  {
   "cell_type": "code",
   "execution_count": 55,
   "metadata": {
    "collapsed": false
   },
   "outputs": [],
   "source": [
    "ll = list(map(lambda x: x.split('/'), all_data['Breed'].unique()))\n",
    "l = [item for sublist in ll for item in sublist]\n",
    "full_breed = set(map(lambda x: x.replace(' Mix', ''), l))"
   ]
  },
  {
   "cell_type": "code",
   "execution_count": 108,
   "metadata": {
    "collapsed": false
   },
   "outputs": [],
   "source": [
    "def prepare_breed(df: pd.DataFrame):\n",
    "    df['BreedMix'] = df['Breed'].str.contains('Mix').apply(lambda x: int(x))\n",
    "    df['Breed'] = df['Breed'].apply(lambda x: x.replace(' Mix', '').split('/'))\n",
    "    df['BreedCount'] = df['Breed'].apply(lambda x: len(x))\n",
    "    tmp = pd.DataFrame()\n",
    "    for breed in full_breed:\n",
    "        tmp[breed] = df['Breed'].apply(lambda x: int(breed in x))   \n",
    "    df = remove(df, ['Breed'])  \n",
    "    return pd.concat([df, tmp], axis=1)"
   ]
  },
  {
   "cell_type": "code",
   "execution_count": 109,
   "metadata": {
    "collapsed": false
   },
   "outputs": [],
   "source": [
    "def to_days(x):\n",
    "    s = x.split(' ')\n",
    "    r = 0\n",
    "    if s[1] in ('year', 'years'):\n",
    "        r = int(s[0]) * 365\n",
    "    elif s[1] in ('month', 'months'):\n",
    "        r = int(s[0]) * 30\n",
    "    elif s[1] in ('week', 'weeks'):\n",
    "        r = int(s[0]) * 7\n",
    "    else:\n",
    "        r = int(s[0])\n",
    "\n",
    "    return r\n",
    "\n",
    "\n",
    "def prepare_age(df: pd.DataFrame):\n",
    "    df['AgeuponOutcome'].fillna('0 months', inplace=True)\n",
    "    df['AgeuponOutcome'] = df['AgeuponOutcome'].apply(to_days)\n",
    "    df['AgeuponOutcome'] = pd.cut(df['AgeuponOutcome'], bins=[0, 90, 180, 365, 730, 1460, 2190, 10000])\n",
    "    return df"
   ]
  },
  {
   "cell_type": "code",
   "execution_count": 110,
   "metadata": {
    "collapsed": true
   },
   "outputs": [],
   "source": [
    "def has_name(x):\n",
    "    return 0 if x == 'Unknown' else 1\n",
    "\n",
    "\n",
    "def prepare_name(df: pd.DataFrame):\n",
    "    df['Name'].fillna('Unknown', inplace=True)\n",
    "    df['Name'] = df['Name'].apply(has_name)\n",
    "    return df"
   ]
  },
  {
   "cell_type": "code",
   "execution_count": 111,
   "metadata": {
    "collapsed": false
   },
   "outputs": [],
   "source": [
    "def prepare_date(df: pd.DataFrame):\n",
    "    df[\"Year\"], df[\"Month\"], df[\"WeekDay\"] = zip(*df[\"DateTime\"].map(convert_date))\n",
    "    return df"
   ]
  },
  {
   "cell_type": "code",
   "execution_count": 112,
   "metadata": {
    "collapsed": false
   },
   "outputs": [
    {
     "data": {
      "text/html": [
       "<div>\n",
       "<table border=\"1\" class=\"dataframe\">\n",
       "  <thead>\n",
       "    <tr style=\"text-align: right;\">\n",
       "      <th></th>\n",
       "      <th>AgeuponOutcome</th>\n",
       "      <th>AnimalType</th>\n",
       "      <th>Color</th>\n",
       "      <th>DateTime</th>\n",
       "      <th>Name</th>\n",
       "      <th>OutcomeSubtype</th>\n",
       "      <th>OutcomeType</th>\n",
       "      <th>SexuponOutcome</th>\n",
       "      <th>Year</th>\n",
       "      <th>Month</th>\n",
       "      <th>...</th>\n",
       "      <th>Rex</th>\n",
       "      <th>Yorkshire</th>\n",
       "      <th>American Bulldog</th>\n",
       "      <th>Spanish Mastiff</th>\n",
       "      <th>Scottish Terrier</th>\n",
       "      <th>English Pointer</th>\n",
       "      <th>Port Water Dog</th>\n",
       "      <th>West Highland</th>\n",
       "      <th>Miniature Pinscher</th>\n",
       "      <th>Italian Greyhound</th>\n",
       "    </tr>\n",
       "  </thead>\n",
       "  <tbody>\n",
       "    <tr>\n",
       "      <th>A671945</th>\n",
       "      <td>(180, 365]</td>\n",
       "      <td>Dog</td>\n",
       "      <td>Brown/White</td>\n",
       "      <td>2014-02-12 18:22:00</td>\n",
       "      <td>1</td>\n",
       "      <td>NaN</td>\n",
       "      <td>Return_to_owner</td>\n",
       "      <td>Neutered Male</td>\n",
       "      <td>2014</td>\n",
       "      <td>2</td>\n",
       "      <td>...</td>\n",
       "      <td>0</td>\n",
       "      <td>0</td>\n",
       "      <td>0</td>\n",
       "      <td>0</td>\n",
       "      <td>0</td>\n",
       "      <td>0</td>\n",
       "      <td>0</td>\n",
       "      <td>0</td>\n",
       "      <td>0</td>\n",
       "      <td>0</td>\n",
       "    </tr>\n",
       "    <tr>\n",
       "      <th>A656520</th>\n",
       "      <td>(180, 365]</td>\n",
       "      <td>Cat</td>\n",
       "      <td>Cream Tabby</td>\n",
       "      <td>2013-10-13 12:44:00</td>\n",
       "      <td>1</td>\n",
       "      <td>Suffering</td>\n",
       "      <td>Euthanasia</td>\n",
       "      <td>Spayed Female</td>\n",
       "      <td>2013</td>\n",
       "      <td>10</td>\n",
       "      <td>...</td>\n",
       "      <td>0</td>\n",
       "      <td>0</td>\n",
       "      <td>0</td>\n",
       "      <td>0</td>\n",
       "      <td>0</td>\n",
       "      <td>0</td>\n",
       "      <td>0</td>\n",
       "      <td>0</td>\n",
       "      <td>0</td>\n",
       "      <td>0</td>\n",
       "    </tr>\n",
       "    <tr>\n",
       "      <th>A686464</th>\n",
       "      <td>(365, 730]</td>\n",
       "      <td>Dog</td>\n",
       "      <td>Blue/White</td>\n",
       "      <td>2015-01-31 12:28:00</td>\n",
       "      <td>1</td>\n",
       "      <td>Foster</td>\n",
       "      <td>Adoption</td>\n",
       "      <td>Neutered Male</td>\n",
       "      <td>2015</td>\n",
       "      <td>1</td>\n",
       "      <td>...</td>\n",
       "      <td>0</td>\n",
       "      <td>0</td>\n",
       "      <td>0</td>\n",
       "      <td>0</td>\n",
       "      <td>0</td>\n",
       "      <td>0</td>\n",
       "      <td>0</td>\n",
       "      <td>0</td>\n",
       "      <td>0</td>\n",
       "      <td>0</td>\n",
       "    </tr>\n",
       "  </tbody>\n",
       "</table>\n",
       "<p>3 rows × 250 columns</p>\n",
       "</div>"
      ],
      "text/plain": [
       "        AgeuponOutcome AnimalType        Color             DateTime  Name  \\\n",
       "A671945     (180, 365]        Dog  Brown/White  2014-02-12 18:22:00     1   \n",
       "A656520     (180, 365]        Cat  Cream Tabby  2013-10-13 12:44:00     1   \n",
       "A686464     (365, 730]        Dog   Blue/White  2015-01-31 12:28:00     1   \n",
       "\n",
       "        OutcomeSubtype      OutcomeType SexuponOutcome  Year  Month  \\\n",
       "A671945            NaN  Return_to_owner  Neutered Male  2014      2   \n",
       "A656520      Suffering       Euthanasia  Spayed Female  2013     10   \n",
       "A686464         Foster         Adoption  Neutered Male  2015      1   \n",
       "\n",
       "               ...          Rex  Yorkshire  American Bulldog  Spanish Mastiff  \\\n",
       "A671945        ...            0          0                 0                0   \n",
       "A656520        ...            0          0                 0                0   \n",
       "A686464        ...            0          0                 0                0   \n",
       "\n",
       "         Scottish Terrier  English Pointer  Port Water Dog  West Highland  \\\n",
       "A671945                 0                0               0              0   \n",
       "A656520                 0                0               0              0   \n",
       "A686464                 0                0               0              0   \n",
       "\n",
       "         Miniature Pinscher  Italian Greyhound  \n",
       "A671945                   0                  0  \n",
       "A656520                   0                  0  \n",
       "A686464                   0                  0  \n",
       "\n",
       "[3 rows x 250 columns]"
      ]
     },
     "execution_count": 112,
     "metadata": {},
     "output_type": "execute_result"
    }
   ],
   "source": [
    "all_data = pd.concat([train_data, test_data])\n",
    "all_df = prepare_age(all_data)\n",
    "all_df = prepare_name(all_df)\n",
    "all_df = prepare_date(all_df)\n",
    "all_df = prepare_breed(all_df)\n",
    "all_df[:3]"
   ]
  },
  {
   "cell_type": "code",
   "execution_count": 113,
   "metadata": {
    "collapsed": false
   },
   "outputs": [
    {
     "name": "stdout",
     "output_type": "stream",
     "text": [
      "(26729, 277)\n",
      "(11456, 277)\n"
     ]
    },
    {
     "data": {
      "text/html": [
       "<div>\n",
       "<table border=\"1\" class=\"dataframe\">\n",
       "  <thead>\n",
       "    <tr style=\"text-align: right;\">\n",
       "      <th></th>\n",
       "      <th>Name</th>\n",
       "      <th>BreedMix</th>\n",
       "      <th>BreedCount</th>\n",
       "      <th>Bernese Mountain Dog</th>\n",
       "      <th>Munchkin Shorthair</th>\n",
       "      <th>Boerboel</th>\n",
       "      <th>German Wirehaired Pointer</th>\n",
       "      <th>Angora</th>\n",
       "      <th>Canaan Dog</th>\n",
       "      <th>Samoyed</th>\n",
       "      <th>...</th>\n",
       "      <th>10</th>\n",
       "      <th>11</th>\n",
       "      <th>12</th>\n",
       "      <th>1_right</th>\n",
       "      <th>2_right</th>\n",
       "      <th>3_right</th>\n",
       "      <th>4_right</th>\n",
       "      <th>5_right</th>\n",
       "      <th>6_right</th>\n",
       "      <th>7_right</th>\n",
       "    </tr>\n",
       "  </thead>\n",
       "  <tbody>\n",
       "    <tr>\n",
       "      <th>A671945</th>\n",
       "      <td>1</td>\n",
       "      <td>1</td>\n",
       "      <td>1</td>\n",
       "      <td>0</td>\n",
       "      <td>0</td>\n",
       "      <td>0</td>\n",
       "      <td>0</td>\n",
       "      <td>0</td>\n",
       "      <td>0</td>\n",
       "      <td>0</td>\n",
       "      <td>...</td>\n",
       "      <td>0.0</td>\n",
       "      <td>0.0</td>\n",
       "      <td>0.0</td>\n",
       "      <td>0.0</td>\n",
       "      <td>0.0</td>\n",
       "      <td>1.0</td>\n",
       "      <td>0.0</td>\n",
       "      <td>0.0</td>\n",
       "      <td>0.0</td>\n",
       "      <td>0.0</td>\n",
       "    </tr>\n",
       "    <tr>\n",
       "      <th>A656520</th>\n",
       "      <td>1</td>\n",
       "      <td>1</td>\n",
       "      <td>1</td>\n",
       "      <td>0</td>\n",
       "      <td>0</td>\n",
       "      <td>0</td>\n",
       "      <td>0</td>\n",
       "      <td>0</td>\n",
       "      <td>0</td>\n",
       "      <td>0</td>\n",
       "      <td>...</td>\n",
       "      <td>1.0</td>\n",
       "      <td>0.0</td>\n",
       "      <td>0.0</td>\n",
       "      <td>0.0</td>\n",
       "      <td>0.0</td>\n",
       "      <td>0.0</td>\n",
       "      <td>0.0</td>\n",
       "      <td>0.0</td>\n",
       "      <td>0.0</td>\n",
       "      <td>1.0</td>\n",
       "    </tr>\n",
       "    <tr>\n",
       "      <th>A686464</th>\n",
       "      <td>1</td>\n",
       "      <td>1</td>\n",
       "      <td>1</td>\n",
       "      <td>0</td>\n",
       "      <td>0</td>\n",
       "      <td>0</td>\n",
       "      <td>0</td>\n",
       "      <td>0</td>\n",
       "      <td>0</td>\n",
       "      <td>0</td>\n",
       "      <td>...</td>\n",
       "      <td>0.0</td>\n",
       "      <td>0.0</td>\n",
       "      <td>0.0</td>\n",
       "      <td>0.0</td>\n",
       "      <td>0.0</td>\n",
       "      <td>0.0</td>\n",
       "      <td>0.0</td>\n",
       "      <td>0.0</td>\n",
       "      <td>1.0</td>\n",
       "      <td>0.0</td>\n",
       "    </tr>\n",
       "  </tbody>\n",
       "</table>\n",
       "<p>3 rows × 277 columns</p>\n",
       "</div>"
      ],
      "text/plain": [
       "         Name  BreedMix  BreedCount  Bernese Mountain Dog  Munchkin Shorthair  \\\n",
       "A671945     1         1           1                     0                   0   \n",
       "A656520     1         1           1                     0                   0   \n",
       "A686464     1         1           1                     0                   0   \n",
       "\n",
       "         Boerboel  German Wirehaired Pointer  Angora  Canaan Dog  Samoyed  \\\n",
       "A671945         0                          0       0           0        0   \n",
       "A656520         0                          0       0           0        0   \n",
       "A686464         0                          0       0           0        0   \n",
       "\n",
       "          ...      10   11   12  1_right  2_right  3_right  4_right  5_right  \\\n",
       "A671945   ...     0.0  0.0  0.0      0.0      0.0      1.0      0.0      0.0   \n",
       "A656520   ...     1.0  0.0  0.0      0.0      0.0      0.0      0.0      0.0   \n",
       "A686464   ...     0.0  0.0  0.0      0.0      0.0      0.0      0.0      0.0   \n",
       "\n",
       "         6_right  7_right  \n",
       "A671945      0.0      0.0  \n",
       "A656520      0.0      1.0  \n",
       "A686464      1.0      0.0  \n",
       "\n",
       "[3 rows x 277 columns]"
      ]
     },
     "execution_count": 113,
     "metadata": {},
     "output_type": "execute_result"
    }
   ],
   "source": [
    "categorical_features = ['AnimalType', 'SexuponOutcome', 'AgeuponOutcome', 'Year', 'Month', 'WeekDay']\n",
    "remove_features = ['DateTime', 'OutcomeSubtype', 'OutcomeType', 'Color']\n",
    "all_X = flatten(all_df, categorical_features)\n",
    "\n",
    "train_X = all_X[all_X['OutcomeType'].notnull()]\n",
    "test_X = all_X[all_X['OutcomeType'].isnull()]\n",
    "\n",
    "le = preprocessing.LabelEncoder()\n",
    "train_y = le.fit_transform(train_X['OutcomeType'].astype('category'))\n",
    "\n",
    "train_X = remove(train_X, remove_features)\n",
    "test_X = remove(test_X, remove_features)\n",
    "\n",
    "\n",
    "print(train_X.shape)\n",
    "print(test_X.shape)\n",
    "train_X[:3]"
   ]
  },
  {
   "cell_type": "code",
   "execution_count": 114,
   "metadata": {
    "collapsed": false
   },
   "outputs": [],
   "source": [
    "X_train, X_test, y_train, y_test = cross_validation.train_test_split(train_X, train_y, test_size=0.3, random_state=248)"
   ]
  },
  {
   "cell_type": "code",
   "execution_count": 115,
   "metadata": {
    "collapsed": false
   },
   "outputs": [
    {
     "name": "stdout",
     "output_type": "stream",
     "text": [
      "# Tuning hyper-parameters\n",
      "\n",
      "Best parameters set found on development set:\n",
      "\n",
      "{'n_estimators': 550}\n",
      "\n",
      "Grid scores on development set:\n",
      "\n",
      "0.636 (+/-0.003) for {'n_estimators': 400}\n",
      "0.635 (+/-0.008) for {'n_estimators': 500}\n",
      "0.637 (+/-0.007) for {'n_estimators': 550}\n",
      "\n",
      "Detailed classification report:\n",
      "\n",
      "The model is trained on the full development set.\n",
      "The scores are computed on the full evaluation set.\n",
      "\n",
      "             precision    recall  f1-score   support\n",
      "\n",
      "          0       0.67      0.79      0.72      3278\n",
      "          1       0.38      0.05      0.09        60\n",
      "          2       0.44      0.14      0.21       449\n",
      "          3       0.48      0.43      0.45      1448\n",
      "          4       0.71      0.67      0.69      2784\n",
      "\n",
      "avg / total       0.63      0.64      0.63      8019\n",
      "\n",
      "\n"
     ]
    }
   ],
   "source": [
    "parameters = {'n_estimators': [400, 500, 550]}\n",
    "model = ensemble.RandomForestClassifier(n_jobs=3)\n",
    "\n",
    "print(\"# Tuning hyper-parameters\")\n",
    "print()\n",
    "\n",
    "clf = grid_search.GridSearchCV(model, parameters)\n",
    "clf.fit(X_train, y_train)\n",
    "\n",
    "print(\"Best parameters set found on development set:\")\n",
    "print()\n",
    "print(clf.best_params_)\n",
    "print()\n",
    "print(\"Grid scores on development set:\")\n",
    "print()\n",
    "for params, mean_score, scores in clf.grid_scores_:\n",
    "    print(\"%0.3f (+/-%0.03f) for %r\" % (mean_score, scores.std() * 2, params))\n",
    "print()\n",
    "\n",
    "print(\"Detailed classification report:\")\n",
    "print()\n",
    "print(\"The model is trained on the full development set.\")\n",
    "print(\"The scores are computed on the full evaluation set.\")\n",
    "print()\n",
    "y_true, y_pred = y_test, clf.predict(X_test)\n",
    "print(metrics.classification_report(y_true, y_pred))\n",
    "print()"
   ]
  },
  {
   "cell_type": "code",
   "execution_count": 116,
   "metadata": {
    "collapsed": false
   },
   "outputs": [
    {
     "data": {
      "text/plain": [
       "0.64347175458286565"
      ]
     },
     "execution_count": 116,
     "metadata": {},
     "output_type": "execute_result"
    }
   ],
   "source": [
    "clf.best_estimator_.score(X_test, y_test)"
   ]
  },
  {
   "cell_type": "code",
   "execution_count": 94,
   "metadata": {
    "collapsed": false
   },
   "outputs": [],
   "source": [
    "# predict = le.inverse_transform(clf.best_estimator_.predict_proba(test_X))\n",
    "predict = clf.best_estimator_.predict_proba(test_X)"
   ]
  },
  {
   "cell_type": "code",
   "execution_count": 95,
   "metadata": {
    "collapsed": false,
    "scrolled": true
   },
   "outputs": [
    {
     "data": {
      "text/plain": [
       "array([[ 0.104     ,  0.        ,  0.04      ,  0.404     ,  0.452     ],\n",
       "       [ 0.754     ,  0.        ,  0.004     ,  0.132     ,  0.11      ],\n",
       "       [ 0.42986667,  0.        ,  0.002     ,  0.034     ,  0.53413333],\n",
       "       [ 0.242     ,  0.002     ,  0.036     ,  0.2       ,  0.52      ],\n",
       "       [ 0.47      ,  0.        ,  0.006     ,  0.268     ,  0.256     ]])"
      ]
     },
     "execution_count": 95,
     "metadata": {},
     "output_type": "execute_result"
    }
   ],
   "source": [
    "predict[:5]"
   ]
  },
  {
   "cell_type": "code",
   "execution_count": 68,
   "metadata": {
    "collapsed": false
   },
   "outputs": [],
   "source": [
    "output = pd.read_csv(\"sample_submission.csv\")\n",
    "output['Adoption'], output['Died'], output['Euthanasia'], output['Return_to_owner'], output['Transfer'] = predict[:,0], predict[:,1], predict[:,2], predict[:,3], predict[:,4]\n",
    "output.to_csv(\"actual_submission.csv\", index=False)"
   ]
  },
  {
   "cell_type": "code",
   "execution_count": null,
   "metadata": {
    "collapsed": true
   },
   "outputs": [],
   "source": []
  }
 ],
 "metadata": {
  "kernelspec": {
   "display_name": "Python 3",
   "language": "python",
   "name": "python3"
  },
  "language_info": {
   "codemirror_mode": {
    "name": "ipython",
    "version": 3
   },
   "file_extension": ".py",
   "mimetype": "text/x-python",
   "name": "python",
   "nbconvert_exporter": "python",
   "pygments_lexer": "ipython3",
   "version": "3.5.1"
  }
 },
 "nbformat": 4,
 "nbformat_minor": 0
}
